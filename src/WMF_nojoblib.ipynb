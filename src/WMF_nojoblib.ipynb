{
 "cells": [
  {
   "cell_type": "code",
   "execution_count": 1,
   "metadata": {
    "collapsed": true
   },
   "outputs": [],
   "source": [
    "from __future__ import print_function, division"
   ]
  },
  {
   "cell_type": "code",
   "execution_count": 9,
   "metadata": {
    "collapsed": true
   },
   "outputs": [],
   "source": [
    "import os\n",
    "import sys\n",
    "import datetime\n",
    "import time\n",
    "\n",
    "import numpy as np\n",
    "import pandas as pd\n",
    "\n",
    "\n",
    "import scipy.sparse as sparse"
   ]
  },
  {
   "cell_type": "code",
   "execution_count": 3,
   "metadata": {
    "collapsed": true
   },
   "outputs": [],
   "source": [
    "%matplotlib inline\n",
    "import matplotlib.pyplot as plt"
   ]
  },
  {
   "cell_type": "code",
   "execution_count": 4,
   "metadata": {
    "collapsed": true
   },
   "outputs": [],
   "source": [
    "DATA_DIR = '/Users/appry001/Data/ml-20m/pro/'"
   ]
  },
  {
   "cell_type": "code",
   "execution_count": 5,
   "metadata": {
    "collapsed": true
   },
   "outputs": [],
   "source": [
    "unique_uid = list()\n",
    "with open(os.path.join(DATA_DIR, 'unique_uid.txt'), 'r') as f:\n",
    "    for line in f:\n",
    "        unique_uid.append(line.strip())\n",
    "    \n",
    "unique_sid = list()\n",
    "with open(os.path.join(DATA_DIR, 'unique_sid.txt'), 'r') as f:\n",
    "    for line in f:\n",
    "        unique_sid.append(line.strip())"
   ]
  },
  {
   "cell_type": "code",
   "execution_count": 6,
   "metadata": {
    "collapsed": false
   },
   "outputs": [
    {
     "name": "stdout",
     "output_type": "stream",
     "text": [
      "111148 11711\n"
     ]
    }
   ],
   "source": [
    "n_items = len(unique_sid)\n",
    "n_users = len(unique_uid)\n",
    "print(n_users, n_items)"
   ]
  },
  {
   "cell_type": "code",
   "execution_count": 10,
   "metadata": {
    "collapsed": true
   },
   "outputs": [],
   "source": [
    "def load_data(csv_file, shape=(n_users, n_items)):\n",
    "    tp = pd.read_csv(csv_file)\n",
    "    print(tp.head())\n",
    "    timestamps, rows, cols = np.array(tp['timestamp']), np.array(tp['uid']), np.array(tp['sid'])\n",
    "    #seq = np.concatenate((rows[:, None], cols[:, None], np.ones((rows.size, 1), dtype='int'), timestamps[:, None]), axis=1)\n",
    "    data = sparse.csr_matrix((np.ones_like(rows), (rows, cols)), dtype=np.int16, shape=shape)\n",
    "    return data #, seq"
   ]
  },
  {
   "cell_type": "code",
   "execution_count": 11,
   "metadata": {
    "collapsed": false
   },
   "outputs": [
    {
     "name": "stderr",
     "output_type": "stream",
     "text": [
      "/System/Library/Frameworks/Python.framework/Versions/2.7/Extras/lib/python/scipy/sparse/coo.py:200: VisibleDeprecationWarning: `rank` is deprecated; use the `ndim` attribute or function instead. To find the rank of a matrix see `numpy.linalg.matrix_rank`.\n",
      "  if np.rank(self.data) != 1 or np.rank(self.row) != 1 or np.rank(self.col) != 1:\n",
      "/System/Library/Frameworks/Python.framework/Versions/2.7/Extras/lib/python/scipy/sparse/compressed.py:130: VisibleDeprecationWarning: `rank` is deprecated; use the `ndim` attribute or function instead. To find the rank of a matrix see `numpy.linalg.matrix_rank`.\n",
      "  if np.rank(self.data) != 1 or np.rank(self.indices) != 1 or np.rank(self.indptr) != 1:\n"
     ]
    },
    {
     "name": "stdout",
     "output_type": "stream",
     "text": [
      "   timestamp     uid   sid\n",
      "0  789652004   22802  1151\n",
      "1  789652009  105277    46\n",
      "2  822873600   87053    56\n",
      "3  822873600   68348    69\n",
      "4  822873600   80133     0\n"
     ]
    }
   ],
   "source": [
    "train_data = load_data(os.path.join(DATA_DIR, 'train.csv'))"
   ]
  },
  {
   "cell_type": "code",
   "execution_count": 12,
   "metadata": {
    "collapsed": false
   },
   "outputs": [
    {
     "name": "stdout",
     "output_type": "stream",
     "text": [
      "   timestamp     uid  sid\n",
      "0  822873600   80133   20\n",
      "1  822873600   80133   17\n",
      "2  822873600  107905   10\n",
      "3  822873600  107905   20\n",
      "4  823185198   99550   49\n"
     ]
    }
   ],
   "source": [
    "vad_data = load_data(os.path.join(DATA_DIR, 'validation.csv'))"
   ]
  },
  {
   "cell_type": "code",
   "execution_count": 13,
   "metadata": {
    "collapsed": false
   },
   "outputs": [
    {
     "name": "stdout",
     "output_type": "stream",
     "text": [
      "    timestamp    uid    sid\n",
      "0  1255949513  24501   1167\n",
      "1  1255949516  66083  10339\n",
      "2  1255949525  66083   5097\n",
      "3  1255949529  66083  10343\n",
      "4  1255949531  24501   1186\n"
     ]
    }
   ],
   "source": [
    "test_data = load_data(os.path.join(DATA_DIR, 'test.csv'))"
   ]
  },
  {
   "cell_type": "code",
   "execution_count": 14,
   "metadata": {
    "collapsed": false
   },
   "outputs": [
    {
     "data": {
      "image/png": "[encoded data removed]",
      "text/plain": [
       "<matplotlib.figure.Figure at 0x10d20bf50>"
      ]
     },
     "metadata": {},
     "output_type": "display_data"
    }
   ],
   "source": [
    "user_activity = np.asarray(train_data.sum(axis=1)).ravel()\n",
    "plt.semilogx(1 + np.arange(n_users), -np.sort(-user_activity), 'o')\n",
    "plt.ylabel('Number of items that this user clicked on')\n",
    "plt.xlabel('User rank by number of consumed items')\n",
    "pass"
   ]
  },
  {
   "cell_type": "code",
   "execution_count": 15,
   "metadata": {
    "collapsed": false
   },
   "outputs": [
    {
     "data": {
      "image/png": "[encoded data removed]",
      "text/plain": [
       "<matplotlib.figure.Figure at 0x10dadeed0>"
      ]
     },
     "metadata": {},
     "output_type": "display_data"
    }
   ],
   "source": [
    "watches_per_movie = np.asarray(train_data.astype('int64').sum(axis=0)).ravel()\n",
    "plt.semilogx(1 + np.arange(n_items), -np.sort(-watches_per_movie), 'o')\n",
    "plt.ylabel('Number of users who watched this movie')\n",
    "plt.xlabel('Movie rank by number of watches')\n",
    "pass"
   ]
  },
  {
   "cell_type": "code",
   "execution_count": 51,
   "metadata": {
    "collapsed": true
   },
   "outputs": [],
   "source": [
    "def linear_surplus_confidence_matrix(B, alpha):\n",
    "    # To construct the surplus confidence matrix, we need to operate only on\n",
    "    # the nonzero elements.\n",
    "    # This is not possible: S = alpha * B\n",
    "    S = B.copy()\n",
    "    S.data = alpha * S.data\n",
    "    return S"
   ]
  },
  {
   "cell_type": "code",
   "execution_count": 59,
   "metadata": {
    "collapsed": true
   },
   "outputs": [],
   "source": [
    "#recompute_factors=batched_inv_joblib.recompute_factors_batched\n",
    "def get_row(S, i):\n",
    "    lo, hi = S.indptr[i], S.indptr[i + 1]\n",
    "    return S.data[lo:hi], S.indices[lo:hi]\n",
    "\n",
    "\n",
    "def solve_sequential(As, Bs):\n",
    "    X_stack = np.empty_like(As, dtype=As.dtype)\n",
    "\n",
    "    for k in xrange(As.shape[0]):\n",
    "        X_stack[k] = np.linalg.solve(Bs[k], As[k])\n",
    "\n",
    "    return X_stack\n",
    "\n",
    "def recompute_factors_full(Y, S, lambda_reg):\n",
    "    \n",
    "    m = S.shape[0]  # m = number of users\n",
    "    f = Y.shape[1]  # f = number of factors\n",
    "\n",
    "    YTY = np.dot(Y.T, Y)  # precompute this\n",
    "    YTYpR = YTY + lambda_reg * np.eye(f)\n",
    "\n",
    "    \n",
    "    A_stack = np.empty((m, f), dtype='float32')\n",
    "    B_stack = np.empty((m, f, f), dtype='float32')\n",
    "\n",
    "    for u in xrange(m):\n",
    "        s_u, i_u = get_row(S, u)\n",
    "        # i_u indexes the nz item elements for user u\n",
    "\n",
    "        Y_u = Y[i_u]  # exploit sparsity\n",
    "\n",
    "        A = (s_u + 1).dot(Y_u)\n",
    "\n",
    "        YTSY = np.dot(Y_u.T, (Y_u * s_u[:, None]))\n",
    "        B = YTSY + YTYpR\n",
    "\n",
    "        A_stack[u] = A\n",
    "        B_stack[u] = B\n",
    "        \n",
    "        if u == 0:\n",
    "            print('i_u ', i_u)\n",
    "            print('s_u ', s_u.shape)\n",
    "            print('Y_u ', Y_u.shape)\n",
    "            print('A ', A.shape)\n",
    "            print('YTSY ', YTSY.shape)\n",
    "            print('B ', B.shape)\n",
    "            \n",
    "\n",
    "    X_stack = solve_sequential(A_stack, B_stack)\n",
    "    \n",
    "    return X_stack\n",
    "\n",
    "\n",
    "\n"
   ]
  },
  {
   "cell_type": "code",
   "execution_count": 60,
   "metadata": {
    "collapsed": false
   },
   "outputs": [
    {
     "name": "stdout",
     "output_type": "stream",
     "text": [
      "Iteration 0:\n",
      "\tUpdating user factors...\n",
      "i_u  [ 149  220  250  257  290  293  537 1015 1055 1073 1173 1186 1187 1191 1210\n",
      " 1219 1229 1248 1290 1302 1326 1341 1354 1880 1934 2013 2031 2051 2053 2056\n",
      " 2086 2087 2106 2195 2198 2448 2534 2667 2777 2849 2864 2873 2984 3056 3373\n",
      " 3382 3392 3776 3880 3895 3911 4187 4348 4452 4633 4787 4869 4915 5405 5649\n",
      " 5667 5795 5933 6166 6357 6565 6583 6847 6952 7182 7214 7230 7347 7650 7733\n",
      " 7823 8134]\n",
      "s_u  (77,)\n",
      "Y_u  (77, 100)\n",
      "A  (100,)\n",
      "YTSY  (100, 100)\n",
      "B  (100, 100)\n",
      "\tUser update time=45.93\n",
      "\tUpdating item factors...\n",
      "\tItem update time=0.00\n"
     ]
    }
   ],
   "source": [
    "# summarize WMF_ML20M\n",
    "num_factors = 100\n",
    "num_iters = 1\n",
    "#lam_theta = lam_beta = 1e-5\n",
    "lambda_U_reg = 1e-5\n",
    "lambda_V_reg = 1e-5\n",
    "alpha = 10\n",
    "init_std=0.01\n",
    "\n",
    "S = linear_surplus_confidence_matrix(train_data, alpha=alpha)\n",
    "\n",
    "num_users, num_items = S.shape\n",
    "\n",
    "ST = S.T.tocsr()\n",
    "\n",
    "random_state=98765\n",
    "if type(random_state) is int:\n",
    "    np.random.seed(random_state)\n",
    "elif random_state is not None:\n",
    "    np.random.setstate(random_state)\n",
    "V = np.random.randn(num_items, num_factors).astype('float32') * init_std\n",
    "\n",
    "for i in xrange(num_iters):\n",
    "    print(\"Iteration %d:\" % i)\n",
    "    \n",
    "    print('\\tUpdating user factors...')\n",
    "    start_time = time.time()\n",
    "    U = recompute_factors_full(V, S, lambda_U_reg)\n",
    "    print('\\tUser update time=%.2f' % (time.time() - start_time))\n",
    "    \n",
    "    print('\\tUpdating item factors...')\n",
    "    start_time = time.time()\n",
    "    #V = recompute_factors_full(U, ST, lambda_V_reg)\n",
    "    print('\\tItem update time=%.2f' % (time.time() - start_time))\n",
    "\n",
    "\n"
   ]
  },
  {
   "cell_type": "code",
   "execution_count": 54,
   "metadata": {
    "collapsed": false
   },
   "outputs": [
    {
     "data": {
      "text/plain": [
       "array([ 0.47483447, -0.45262411,  0.12922375, -0.37676117, -1.82800055,\n",
       "        0.5996694 , -0.82891166,  0.38306516,  0.10334159, -0.58245152,\n",
       "        0.06795751, -1.05457795,  1.27783525, -0.58131236, -0.29370022,\n",
       "        0.32481018,  0.37592852,  0.29745358,  1.30121052, -0.00357365,\n",
       "        0.66819078, -0.98151368,  0.3816582 , -0.57974958, -1.92892361,\n",
       "        0.53237849, -0.07437876, -0.22442238,  0.53737158, -1.11361492,\n",
       "       -0.52870733, -0.10714696,  0.07809896,  0.22033608, -0.36906809,\n",
       "       -0.37337652,  0.70809895, -0.84612507,  1.29883635,  0.08175272,\n",
       "       -0.55716425, -0.32196003,  0.11929715, -0.47686729, -0.11620339,\n",
       "       -1.2678771 ,  0.03485085,  0.29723802, -0.76723731, -0.31596872,\n",
       "        1.06023335,  0.97439206,  0.77322119, -0.72154772, -0.17960925,\n",
       "       -0.61731648, -0.33738431,  0.95407182, -0.84338319,  0.72571206,\n",
       "        0.82911766, -0.14987759,  0.14903134,  0.7739957 ,  0.35197195,\n",
       "       -1.52633965, -0.02371887,  0.74461204,  0.72278631, -0.7834084 ,\n",
       "       -0.19522691,  0.46403417,  0.05790826, -0.15946032,  0.13706987,\n",
       "       -0.2704151 , -0.08872724, -1.13142312,  0.63349956,  0.89921093,\n",
       "        0.27106735, -0.21584758, -0.27892503,  1.1588161 , -0.50674927,\n",
       "        1.0713532 ,  0.75290895,  1.52860689, -1.5765965 ,  0.20239402,\n",
       "       -0.11169032,  0.13360983, -0.04310858,  0.01357627, -0.62576616,\n",
       "       -0.21391536,  0.43593347, -0.65578306,  1.62494254, -0.70954794], dtype=float32)"
      ]
     },
     "execution_count": 54,
     "metadata": {},
     "output_type": "execute_result"
    }
   ],
   "source": [
    "U[0]"
   ]
  },
  {
   "cell_type": "code",
   "execution_count": 47,
   "metadata": {
    "collapsed": false
   },
   "outputs": [
    {
     "data": {
      "text/plain": [
       "array([ 0.47483447, -0.45262411,  0.12922375, -0.37676117, -1.82800055,\n",
       "        0.5996694 , -0.82891166,  0.38306516,  0.10334159, -0.58245152,\n",
       "        0.06795751, -1.05457795,  1.27783525, -0.58131236, -0.29370022,\n",
       "        0.32481018,  0.37592852,  0.29745358,  1.30121052, -0.00357365,\n",
       "        0.66819078, -0.98151368,  0.3816582 , -0.57974958, -1.92892361,\n",
       "        0.53237849, -0.07437876, -0.22442238,  0.53737158, -1.11361492,\n",
       "       -0.52870733, -0.10714696,  0.07809896,  0.22033608, -0.36906809,\n",
       "       -0.37337652,  0.70809895, -0.84612507,  1.29883635,  0.08175272,\n",
       "       -0.55716425, -0.32196003,  0.11929715, -0.47686729, -0.11620339,\n",
       "       -1.2678771 ,  0.03485085,  0.29723802, -0.76723731, -0.31596872,\n",
       "        1.06023335,  0.97439206,  0.77322119, -0.72154772, -0.17960925,\n",
       "       -0.61731648, -0.33738431,  0.95407182, -0.84338319,  0.72571206,\n",
       "        0.82911766, -0.14987759,  0.14903134,  0.7739957 ,  0.35197195,\n",
       "       -1.52633965, -0.02371887,  0.74461204,  0.72278631, -0.7834084 ,\n",
       "       -0.19522691,  0.46403417,  0.05790826, -0.15946032,  0.13706987,\n",
       "       -0.2704151 , -0.08872724, -1.13142312,  0.63349956,  0.89921093,\n",
       "        0.27106735, -0.21584758, -0.27892503,  1.1588161 , -0.50674927,\n",
       "        1.0713532 ,  0.75290895,  1.52860689, -1.5765965 ,  0.20239402,\n",
       "       -0.11169032,  0.13360983, -0.04310858,  0.01357627, -0.62576616,\n",
       "       -0.21391536,  0.43593347, -0.65578306,  1.62494254, -0.70954794], dtype=float32)"
      ]
     },
     "execution_count": 47,
     "metadata": {},
     "output_type": "execute_result"
    }
   ],
   "source": [
    "U[0]"
   ]
  },
  {
   "cell_type": "code",
   "execution_count": null,
   "metadata": {
    "collapsed": true
   },
   "outputs": [],
   "source": []
  },
  {
   "cell_type": "code",
   "execution_count": null,
   "metadata": {
    "collapsed": true
   },
   "outputs": [],
   "source": []
  },
  {
   "cell_type": "code",
   "execution_count": null,
   "metadata": {
    "collapsed": true
   },
   "outputs": [],
   "source": []
  },
  {
   "cell_type": "code",
   "execution_count": null,
   "metadata": {
    "collapsed": true
   },
   "outputs": [],
   "source": []
  },
  {
   "cell_type": "code",
   "execution_count": null,
   "metadata": {
    "collapsed": true
   },
   "outputs": [],
   "source": []
  },
  {
   "cell_type": "code",
   "execution_count": null,
   "metadata": {
    "collapsed": true
   },
   "outputs": [],
   "source": []
  }
 ],
 "metadata": {
  "kernelspec": {
   "display_name": "Python 2",
   "language": "python",
   "name": "python2"
  },
  "language_info": {
   "codemirror_mode": {
    "name": "ipython",
    "version": 2
   },
   "file_extension": ".py",
   "mimetype": "text/x-python",
   "name": "python",
   "nbconvert_exporter": "python",
   "pygments_lexer": "ipython2",
   "version": "2.7.10"
  }
 },
 "nbformat": 4,
 "nbformat_minor": 0
}
