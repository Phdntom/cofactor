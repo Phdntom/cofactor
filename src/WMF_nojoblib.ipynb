{
 "cells": [
  {
   "cell_type": "code",
   "execution_count": 1,
   "metadata": {},
   "outputs": [
    {
     "data": {
      "text/plain": [
       "'1.0.0'"
      ]
     },
     "execution_count": 1,
     "metadata": {},
     "output_type": "execute_result"
    }
   ],
   "source": [
    "import scipy\n",
    "scipy.__version__"
   ]
  },
  {
   "cell_type": "code",
   "execution_count": null,
   "metadata": {},
   "outputs": [],
   "source": []
  },
  {
   "cell_type": "code",
   "execution_count": 3,
   "metadata": {},
   "outputs": [],
   "source": [
    "from __future__ import print_function, division"
   ]
  },
  {
   "cell_type": "code",
   "execution_count": 5,
   "metadata": {},
   "outputs": [],
   "source": [
    "import os\n",
    "import time\n",
    "\n",
    "import numpy as np\n",
    "import pandas as pd\n",
    "\n",
    "import scipy.sparse as sparse"
   ]
  },
  {
   "cell_type": "code",
   "execution_count": 7,
   "metadata": {},
   "outputs": [],
   "source": [
    "%matplotlib inline\n",
    "import matplotlib.pyplot as plt"
   ]
  },
  {
   "cell_type": "code",
   "execution_count": 8,
   "metadata": {},
   "outputs": [],
   "source": [
    "DATA_DIR = '/Users/appry001/Data/ml-20m/pro/'"
   ]
  },
  {
   "cell_type": "code",
   "execution_count": 9,
   "metadata": {},
   "outputs": [],
   "source": [
    "unique_uid = list()\n",
    "with open(os.path.join(DATA_DIR, 'unique_uid.txt'), 'r') as f:\n",
    "    for line in f:\n",
    "        unique_uid.append(line.strip())\n",
    "    \n",
    "unique_sid = list()\n",
    "with open(os.path.join(DATA_DIR, 'unique_sid.txt'), 'r') as f:\n",
    "    for line in f:\n",
    "        unique_sid.append(line.strip())"
   ]
  },
  {
   "cell_type": "code",
   "execution_count": 10,
   "metadata": {},
   "outputs": [
    {
     "name": "stdout",
     "output_type": "stream",
     "text": [
      "111148 11711\n"
     ]
    }
   ],
   "source": [
    "n_items = len(unique_sid)\n",
    "n_users = len(unique_uid)\n",
    "print(n_users, n_items)"
   ]
  },
  {
   "cell_type": "code",
   "execution_count": 11,
   "metadata": {},
   "outputs": [],
   "source": [
    "def load_data(csv_file, shape=(n_users, n_items)):\n",
    "    tp = pd.read_csv(csv_file)\n",
    "    print(tp.head())\n",
    "    timestamps, rows, cols = np.array(tp['timestamp']), np.array(tp['uid']), np.array(tp['sid'])\n",
    "    #seq = np.concatenate((rows[:, None], cols[:, None], np.ones((rows.size, 1), dtype='int'), timestamps[:, None]), axis=1)\n",
    "    data = sparse.csr_matrix((np.ones_like(rows), (rows, cols)), dtype=np.int16, shape=shape)\n",
    "    return data #, seq"
   ]
  },
  {
   "cell_type": "code",
   "execution_count": 12,
   "metadata": {},
   "outputs": [
    {
     "name": "stdout",
     "output_type": "stream",
     "text": [
      "   timestamp     uid   sid\n",
      "0  789652004   22802  1151\n",
      "1  789652009  105277    46\n",
      "2  822873600   87053    56\n",
      "3  822873600   68348    69\n",
      "4  822873600   80133     0\n"
     ]
    }
   ],
   "source": [
    "train_data = load_data(os.path.join(DATA_DIR, 'train.csv'))"
   ]
  },
  {
   "cell_type": "code",
   "execution_count": 13,
   "metadata": {},
   "outputs": [
    {
     "name": "stdout",
     "output_type": "stream",
     "text": [
      "   timestamp     uid  sid\n",
      "0  822873600   80133   20\n",
      "1  822873600   80133   17\n",
      "2  822873600  107905   10\n",
      "3  822873600  107905   20\n",
      "4  823185198   99550   49\n"
     ]
    }
   ],
   "source": [
    "vad_data = load_data(os.path.join(DATA_DIR, 'validation.csv'))"
   ]
  },
  {
   "cell_type": "code",
   "execution_count": 14,
   "metadata": {},
   "outputs": [
    {
     "name": "stdout",
     "output_type": "stream",
     "text": [
      "    timestamp    uid    sid\n",
      "0  1255949513  24501   1167\n",
      "1  1255949516  66083  10339\n",
      "2  1255949525  66083   5097\n",
      "3  1255949529  66083  10343\n",
      "4  1255949531  24501   1186\n"
     ]
    }
   ],
   "source": [
    "test_data = load_data(os.path.join(DATA_DIR, 'test.csv'))"
   ]
  },
  {
   "cell_type": "code",
   "execution_count": 15,
   "metadata": {},
   "outputs": [
    {
     "data": {
      "image/png": "[encoded data removed]",
      "text/plain": [
       "<matplotlib.figure.Figure at 0x10b58ae90>"
      ]
     },
     "metadata": {},
     "output_type": "display_data"
    }
   ],
   "source": [
    "user_activity = np.asarray(train_data.sum(axis=1)).ravel()\n",
    "plt.semilogx(1 + np.arange(n_users), -np.sort(-user_activity), 'o')\n",
    "plt.ylabel('Number of items that this user clicked on')\n",
    "plt.xlabel('User rank by number of consumed items')\n",
    "pass"
   ]
  },
  {
   "cell_type": "code",
   "execution_count": 16,
   "metadata": {},
   "outputs": [
    {
     "data": {
      "image/png": "[encoded data removed]",
      "text/plain": [
       "<matplotlib.figure.Figure at 0x10fc3d410>"
      ]
     },
     "metadata": {},
     "output_type": "display_data"
    }
   ],
   "source": [
    "watches_per_movie = np.asarray(train_data.astype('int64').sum(axis=0)).ravel()\n",
    "plt.semilogx(1 + np.arange(n_items), -np.sort(-watches_per_movie), 'o')\n",
    "plt.ylabel('Number of users who watched this movie')\n",
    "plt.xlabel('Movie rank by number of watches')\n",
    "pass"
   ]
  },
  {
   "cell_type": "code",
   "execution_count": 17,
   "metadata": {},
   "outputs": [],
   "source": [
    "def linear_surplus_confidence_matrix(B, alpha):\n",
    "    # To construct the surplus confidence matrix, we need to operate only on\n",
    "    # the nonzero elements.\n",
    "    # This is not possible: S = alpha * B\n",
    "    S = B.copy()\n",
    "    S.data = alpha * S.data\n",
    "    return S"
   ]
  },
  {
   "cell_type": "code",
   "execution_count": 18,
   "metadata": {},
   "outputs": [],
   "source": [
    "#recompute_factors=batched_inv_joblib.recompute_factors_batched\n",
    "def get_row(S, i):\n",
    "    \"\"\"\n",
    "    Args:\n",
    "        S: scipy.sparse.csr_matrix\n",
    "        i: index to the ith row in S\n",
    "        \n",
    "    Returns:\n",
    "        S.data[lo:hi]: the non-zero elements in row i of S\n",
    "        S.indices[lo:hi]: the column indices of the non-zero elements in row i of S\n",
    "    \"\"\"\n",
    "    lo, hi = S.indptr[i], S.indptr[i + 1]\n",
    "    return S.data[lo:hi], S.indices[lo:hi]\n",
    "\n",
    "def solve_sequential(As, Bs):\n",
    "    \"\"\"\n",
    "    \"\"\"\n",
    "    X_stack = np.empty_like(As, dtype=As.dtype)\n",
    "    for k in xrange(As.shape[0]):\n",
    "        X_stack[k] = np.linalg.solve(Bs[k], As[k])\n",
    "    return X_stack\n",
    "\n",
    "def recompute_factors_full(Y, S, lambda_reg):\n",
    "    \n",
    "    m = S.shape[0]  # m = number of users\n",
    "    f = Y.shape[1]  # f = number of factors\n",
    "\n",
    "    YTY = np.dot(Y.T, Y)  # precompute this\n",
    "    YTYpR = YTY + lambda_reg * np.eye(f)\n",
    "\n",
    "    A_stack = np.empty((m, f), dtype='float32')\n",
    "    B_stack = np.empty((m, f, f), dtype='float32')\n",
    "\n",
    "    for u in xrange(m):\n",
    "        s_u, i_u = get_row(S, u)\n",
    "        # i_u indexes the nz item elements for user u\n",
    "        Y_u = Y[i_u]  # exploit sparsity\n",
    "        A = (s_u + 1).dot(Y_u)\n",
    "        YTSY = np.dot(Y_u.T, (Y_u * s_u[:, None]))\n",
    "        B = YTSY + YTYpR\n",
    "        A_stack[u] = A\n",
    "        B_stack[u] = B\n",
    "        #if u == 0:\n",
    "        #    print('i_u ', i_u)\n",
    "        #    print('s_u ', s_u.shape)\n",
    "        #    print('Y_u ', Y_u.shape)\n",
    "        #    print('A ', A.shape)\n",
    "        #    print('YTSY ', YTSY.shape)\n",
    "        #    print('B ', B.shape)\n",
    "    X_stack = solve_sequential(A_stack, B_stack)\n",
    "    \n",
    "    return X_stack"
   ]
  },
  {
   "cell_type": "code",
   "execution_count": 19,
   "metadata": {},
   "outputs": [],
   "source": [
    "import bottleneck as bn\n",
    "import numpy as np\n",
    "\n",
    "from scipy import sparse\n",
    "\n",
    "def normalized_dcg_at_k(train_data, heldout_data, U, V, batch_users=5000,\n",
    "                        k=100, mu=None, vad_data=None, agg=np.nanmean):\n",
    "\n",
    "    n_users = train_data.shape[0]\n",
    "    res = list()\n",
    "    for user_idx in user_idx_generator(n_users, batch_users):\n",
    "        res.append(NDCG_binary_at_k_batch(train_data, heldout_data, U, V.T,\n",
    "                                          user_idx, k=k, mu=mu,\n",
    "                                          vad_data=vad_data))\n",
    "    ndcg = np.hstack(res)\n",
    "    if callable(agg):\n",
    "        return agg(ndcg)\n",
    "    return ndcg\n",
    "\n",
    "def user_idx_generator(n_users, batch_users):\n",
    "    ''' helper function to generate the user index to loop through the dataset\n",
    "    '''\n",
    "    for start in xrange(0, n_users, batch_users):\n",
    "        end = min(n_users, start + batch_users)\n",
    "        yield slice(start, end)\n",
    "\n",
    "def _make_prediction(train_data, Et, Eb, user_idx, batch_users, mu=None,\n",
    "                     vad_data=None):\n",
    "    n_songs = train_data.shape[1]\n",
    "    # exclude examples from training and validation (if any)\n",
    "    item_idx = np.zeros((batch_users, n_songs), dtype=bool)\n",
    "    item_idx[train_data[user_idx].nonzero()] = True\n",
    "    if vad_data is not None:\n",
    "        item_idx[vad_data[user_idx].nonzero()] = True\n",
    "    X_pred = Et[user_idx].dot(Eb)\n",
    "    if mu is not None:\n",
    "        if isinstance(mu, np.ndarray):\n",
    "            assert mu.size == n_songs  # mu_i\n",
    "            X_pred *= mu\n",
    "        elif isinstance(mu, dict):  # func(mu_ui)\n",
    "            params, func = mu['params'], mu['func']\n",
    "            args = [params[0][user_idx], params[1]]\n",
    "            if len(params) > 2:  # for bias term in document or length-scale\n",
    "                args += [params[2][user_idx]]\n",
    "            if not callable(func):\n",
    "                raise TypeError(\"expecting a callable function\")\n",
    "            X_pred *= func(*args)\n",
    "        else:\n",
    "            raise ValueError(\"unsupported mu type\")\n",
    "    X_pred[item_idx] = -np.inf\n",
    "    return X_pred\n",
    "\n",
    "def NDCG_binary_at_k_batch(train_data, heldout_data, Et, Eb, user_idx,\n",
    "                           mu=None, k=100, vad_data=None):\n",
    "    '''\n",
    "    normalized discounted cumulative gain@k for binary relevance\n",
    "    ASSUMPTIONS: all the 0's in heldout_data indicate 0 relevance\n",
    "    '''\n",
    "    batch_users = user_idx.stop - user_idx.start # just a number\n",
    "\n",
    "    X_pred = _make_prediction(train_data, Et, Eb, user_idx,\n",
    "                              batch_users, mu=mu, vad_data=vad_data)\n",
    "    idx_topk_part = bn.argpartition(-X_pred, k, axis=1)\n",
    "    topk_part = X_pred[np.arange(batch_users)[:, np.newaxis],\n",
    "                       idx_topk_part[:, :k]]\n",
    "    idx_part = np.argsort(-topk_part, axis=1)\n",
    "    # X_pred[np.arange(batch_users)[:, np.newaxis], idx_topk] is the sorted\n",
    "    # topk predicted score\n",
    "    idx_topk = idx_topk_part[np.arange(batch_users)[:, np.newaxis], idx_part]\n",
    "    # build the discount template\n",
    "    tp = 1. / np.log2(np.arange(2, k + 2))\n",
    "\n",
    "    heldout_batch = heldout_data[user_idx]\n",
    "    DCG = (heldout_batch[np.arange(batch_users)[:, np.newaxis],\n",
    "                         idx_topk].toarray() * tp).sum(axis=1)\n",
    "    IDCG = np.array([(tp[:min(n, k)]).sum()\n",
    "                     for n in heldout_batch.getnnz(axis=1)])\n",
    "    return DCG / IDCG"
   ]
  },
  {
   "cell_type": "code",
   "execution_count": 20,
   "metadata": {},
   "outputs": [],
   "source": []
  },
  {
   "cell_type": "code",
   "execution_count": 26,
   "metadata": {},
   "outputs": [
    {
     "name": "stdout",
     "output_type": "stream",
     "text": [
      "Iteration 0:\n",
      "\tUpdating user factors...\n",
      "\t\tUser update time=48.47s\n",
      "\tUpdating item factors...\n",
      "\t\tItem update time=10.11s\n",
      "\tComputing NDCG on validation data...\n"
     ]
    },
    {
     "name": "stderr",
     "output_type": "stream",
     "text": [
      "/Users/appry001/Envs/cofactorEnv/lib/python2.7/site-packages/ipykernel_launcher.py:78: RuntimeWarning: invalid value encountered in true_divide\n"
     ]
    },
    {
     "name": "stdout",
     "output_type": "stream",
     "text": [
      "\t\tNDCG computed in 29.71s\n",
      "\tValidation NDCG@k: 0.19087\n",
      "Iteration 1:\n",
      "\tUpdating user factors...\n",
      "\t\tUser update time=47.86s\n",
      "\tUpdating item factors...\n",
      "\t\tItem update time=10.09s\n",
      "\tComputing NDCG on validation data...\n",
      "\t\tNDCG computed in 30.95s\n",
      "\tValidation NDCG@k: 0.31009\n",
      "Iteration 2:\n",
      "\tUpdating user factors...\n",
      "\t\tUser update time=48.43s\n",
      "\tUpdating item factors...\n",
      "\t\tItem update time=10.11s\n",
      "\tComputing NDCG on validation data...\n",
      "\t\tNDCG computed in 29.09s\n",
      "\tValidation NDCG@k: 0.32825\n",
      "Iteration 3:\n",
      "\tUpdating user factors...\n",
      "\t\tUser update time=47.14s\n",
      "\tUpdating item factors...\n",
      "\t\tItem update time=9.85s\n",
      "\tComputing NDCG on validation data...\n",
      "\t\tNDCG computed in 28.10s\n",
      "\tValidation NDCG@k: 0.33675\n",
      "Iteration 4:\n",
      "\tUpdating user factors...\n",
      "\t\tUser update time=47.21s\n",
      "\tUpdating item factors...\n",
      "\t\tItem update time=9.81s\n",
      "\tComputing NDCG on validation data...\n",
      "\t\tNDCG computed in 27.70s\n",
      "\tValidation NDCG@k: 0.34171\n",
      "Iteration 5:\n",
      "\tUpdating user factors...\n",
      "\t\tUser update time=47.02s\n",
      "\tUpdating item factors...\n",
      "\t\tItem update time=9.76s\n",
      "\tComputing NDCG on validation data...\n",
      "\t\tNDCG computed in 26.56s\n",
      "\tValidation NDCG@k: 0.34491\n",
      "Iteration 6:\n",
      "\tUpdating user factors...\n",
      "\t\tUser update time=46.77s\n",
      "\tUpdating item factors...\n",
      "\t\tItem update time=9.87s\n",
      "\tComputing NDCG on validation data...\n",
      "\t\tNDCG computed in 28.46s\n",
      "\tValidation NDCG@k: 0.34729\n",
      "Iteration 7:\n",
      "\tUpdating user factors...\n",
      "\t\tUser update time=48.93s\n",
      "\tUpdating item factors...\n",
      "\t\tItem update time=9.75s\n",
      "\tComputing NDCG on validation data...\n",
      "\t\tNDCG computed in 27.67s\n",
      "\tValidation NDCG@k: 0.34894\n",
      "Iteration 8:\n",
      "\tUpdating user factors...\n",
      "\t\tUser update time=44.43s\n",
      "\tUpdating item factors...\n",
      "\t\tItem update time=9.40s\n",
      "\tComputing NDCG on validation data...\n",
      "\t\tNDCG computed in 28.04s\n",
      "\tValidation NDCG@k: 0.35018\n",
      "Iteration 9:\n",
      "\tUpdating user factors...\n",
      "\t\tUser update time=44.43s\n",
      "\tUpdating item factors...\n",
      "\t\tItem update time=9.44s\n",
      "\tComputing NDCG on validation data...\n",
      "\t\tNDCG computed in 28.18s\n",
      "\tValidation NDCG@k: 0.35112\n",
      "Iteration 10:\n",
      "\tUpdating user factors...\n",
      "\t\tUser update time=43.67s\n",
      "\tUpdating item factors...\n",
      "\t\tItem update time=9.40s\n",
      "\tComputing NDCG on validation data...\n",
      "\t\tNDCG computed in 28.22s\n",
      "\tValidation NDCG@k: 0.35193\n",
      "Iteration 11:\n",
      "\tUpdating user factors...\n",
      "\t\tUser update time=43.82s\n",
      "\tUpdating item factors...\n",
      "\t\tItem update time=9.31s\n",
      "\tComputing NDCG on validation data...\n",
      "\t\tNDCG computed in 28.19s\n",
      "\tValidation NDCG@k: 0.35252\n",
      "Iteration 12:\n",
      "\tUpdating user factors...\n",
      "\t\tUser update time=44.29s\n",
      "\tUpdating item factors...\n",
      "\t\tItem update time=9.37s\n",
      "\tComputing NDCG on validation data...\n",
      "\t\tNDCG computed in 28.12s\n",
      "\tValidation NDCG@k: 0.35301\n",
      "Iteration 13:\n",
      "\tUpdating user factors...\n",
      "\t\tUser update time=43.53s\n",
      "\tUpdating item factors...\n",
      "\t\tItem update time=9.41s\n",
      "\tComputing NDCG on validation data...\n",
      "\t\tNDCG computed in 28.22s\n",
      "\tValidation NDCG@k: 0.35341\n",
      "Iteration 14:\n",
      "\tUpdating user factors...\n",
      "\t\tUser update time=43.91s\n",
      "\tUpdating item factors...\n",
      "\t\tItem update time=9.36s\n",
      "\tComputing NDCG on validation data...\n",
      "\t\tNDCG computed in 28.13s\n",
      "\tValidation NDCG@k: 0.35376\n"
     ]
    }
   ],
   "source": [
    "# summarize WMF_ML20M\n",
    "num_factors = 100\n",
    "num_iters = 15\n",
    "#lam_theta = lam_beta = 1e-5\n",
    "lambda_U_reg = 1e-5\n",
    "lambda_V_reg = 1e-5\n",
    "alpha = 10\n",
    "init_std=0.01\n",
    "\n",
    "S = linear_surplus_confidence_matrix(train_data, alpha=alpha)\n",
    "\n",
    "num_users, num_items = S.shape\n",
    "\n",
    "ST = S.T.tocsr()\n",
    "\n",
    "random_state=98765\n",
    "if type(random_state) is int:\n",
    "    np.random.seed(random_state)\n",
    "elif random_state is not None:\n",
    "    np.random.setstate(random_state)\n",
    "V = np.random.randn(num_items, num_factors).astype('float32') * init_std\n",
    "\n",
    "old_ndcg = -np.inf\n",
    "\n",
    "for i in xrange(num_iters):\n",
    "    print(\"Iteration %d:\" % i)\n",
    "    \n",
    "    print('\\tUpdating user factors...')\n",
    "    start_time = time.time()\n",
    "    U = recompute_factors_full(V, S, lambda_U_reg)\n",
    "    print('\\t\\tUser update time=%.2fs' % (time.time() - start_time))\n",
    "    \n",
    "    print('\\tUpdating item factors...')\n",
    "    start_time = time.time()\n",
    "    V = recompute_factors_full(U, ST, lambda_V_reg)\n",
    "    print('\\t\\tItem update time=%.2fs' % (time.time() - start_time))\n",
    "\n",
    "    print('\\tComputing NDCG on validation data...')\n",
    "    start_time = time.time()\n",
    "    vad_ndcg = normalized_dcg_at_k(S, vad_data, U, V, k=100, batch_users=5000)\n",
    "    print('\\t\\tNDCG computed in %.2fs' % (time.time()-start_time))\n",
    "    print(\"\\tValidation NDCG@k: %.5f\" % vad_ndcg)\n",
    "    if old_ndcg > vad_ndcg:\n",
    "        print('\\t\\t NDCG has gone down. Early stopping.')\n",
    "        break\n",
    "    old_ndcg = vad_ndcg\n"
   ]
  },
  {
   "cell_type": "code",
   "execution_count": null,
   "metadata": {},
   "outputs": [],
   "source": []
  },
  {
   "cell_type": "code",
   "execution_count": null,
   "metadata": {},
   "outputs": [],
   "source": []
  },
  {
   "cell_type": "code",
   "execution_count": null,
   "metadata": {},
   "outputs": [],
   "source": []
  },
  {
   "cell_type": "code",
   "execution_count": null,
   "metadata": {},
   "outputs": [],
   "source": []
  },
  {
   "cell_type": "code",
   "execution_count": null,
   "metadata": {},
   "outputs": [],
   "source": []
  },
  {
   "cell_type": "code",
   "execution_count": null,
   "metadata": {},
   "outputs": [],
   "source": []
  },
  {
   "cell_type": "code",
   "execution_count": null,
   "metadata": {},
   "outputs": [],
   "source": []
  },
  {
   "cell_type": "code",
   "execution_count": null,
   "metadata": {},
   "outputs": [],
   "source": []
  },
  {
   "cell_type": "code",
   "execution_count": null,
   "metadata": {},
   "outputs": [],
   "source": []
  },
  {
   "cell_type": "code",
   "execution_count": null,
   "metadata": {
    "collapsed": true
   },
   "outputs": [],
   "source": []
  },
  {
   "cell_type": "code",
   "execution_count": null,
   "metadata": {
    "collapsed": true
   },
   "outputs": [],
   "source": []
  },
  {
   "cell_type": "code",
   "execution_count": 22,
   "metadata": {},
   "outputs": [],
   "source": [
    "item_idx = np.zeros((n_users, n_items), dtype=bool)\n",
    "item_idx[S.nonzero()] = True"
   ]
  },
  {
   "cell_type": "code",
   "execution_count": 2,
   "metadata": {},
   "outputs": [
    {
     "data": {
      "text/plain": [
       "(10, 5)"
      ]
     },
     "execution_count": 2,
     "metadata": {},
     "output_type": "execute_result"
    }
   ],
   "source": [
    "slice(5, 10).stop, slice(5, 10).start"
   ]
  },
  {
   "cell_type": "code",
   "execution_count": 6,
   "metadata": {},
   "outputs": [
    {
     "ename": "NameError",
     "evalue": "name 'S' is not defined",
     "output_type": "error",
     "traceback": [
      "\u001b[0;31m---------------------------------------------------------------------------\u001b[0m",
      "\u001b[0;31mNameError\u001b[0m                                 Traceback (most recent call last)",
      "\u001b[0;32m<ipython-input-6-9a42b8496530>\u001b[0m in \u001b[0;36m<module>\u001b[0;34m()\u001b[0m\n\u001b[1;32m      8\u001b[0m     \u001b[0;32mreturn\u001b[0m \u001b[0mX_pred\u001b[0m\u001b[0;34m\u001b[0m\u001b[0m\n\u001b[1;32m      9\u001b[0m \u001b[0;34m\u001b[0m\u001b[0m\n\u001b[0;32m---> 10\u001b[0;31m \u001b[0mX_pred\u001b[0m \u001b[0;34m=\u001b[0m \u001b[0m_make_prediction\u001b[0m\u001b[0;34m(\u001b[0m\u001b[0mS\u001b[0m\u001b[0;34m,\u001b[0m \u001b[0mU\u001b[0m\u001b[0;34m,\u001b[0m \u001b[0mV\u001b[0m\u001b[0;34m.\u001b[0m\u001b[0mT\u001b[0m\u001b[0;34m)\u001b[0m\u001b[0;34m\u001b[0m\u001b[0m\n\u001b[0m\u001b[1;32m     11\u001b[0m \u001b[0mX_pred\u001b[0m\u001b[0;34m.\u001b[0m\u001b[0mshape\u001b[0m\u001b[0;34m\u001b[0m\u001b[0m\n",
      "\u001b[0;31mNameError\u001b[0m: name 'S' is not defined"
     ]
    }
   ],
   "source": [
    "def _make_prediction(train_data, U, VT):\n",
    "    n_users, n_songs = train_data.shape\n",
    "    # exclude examples from training and validation (if any)\n",
    "    item_idx = np.zeros((n_users, n_songs), dtype=bool)\n",
    "    item_idx[train_data.nonzero()] = True\n",
    "    X_pred = U.dot(VT)\n",
    "    X_pred[item_idx] = -np.inf # predictions in train set get -inf\n",
    "    return X_pred\n",
    "\n",
    "X_pred = _make_prediction(S, U, V.T)\n",
    "X_pred.shape"
   ]
  },
  {
   "cell_type": "code",
   "execution_count": 5,
   "metadata": {},
   "outputs": [
    {
     "ename": "NameError",
     "evalue": "name 'X_pred' is not defined",
     "output_type": "error",
     "traceback": [
      "\u001b[0;31m---------------------------------------------------------------------------\u001b[0m",
      "\u001b[0;31mNameError\u001b[0m                                 Traceback (most recent call last)",
      "\u001b[0;32m<ipython-input-5-b14d6f3a01b0>\u001b[0m in \u001b[0;36m<module>\u001b[0;34m()\u001b[0m\n\u001b[0;32m----> 1\u001b[0;31m \u001b[0mX_pred\u001b[0m\u001b[0;34m\u001b[0m\u001b[0m\n\u001b[0m",
      "\u001b[0;31mNameError\u001b[0m: name 'X_pred' is not defined"
     ]
    }
   ],
   "source": [
    "X_pred"
   ]
  },
  {
   "cell_type": "code",
   "execution_count": 4,
   "metadata": {},
   "outputs": [
    {
     "ename": "NameError",
     "evalue": "name 'X_pred' is not defined",
     "output_type": "error",
     "traceback": [
      "\u001b[0;31m---------------------------------------------------------------------------\u001b[0m",
      "\u001b[0;31mNameError\u001b[0m                                 Traceback (most recent call last)",
      "\u001b[0;32m<ipython-input-4-c5261ae1420d>\u001b[0m in \u001b[0;36m<module>\u001b[0;34m()\u001b[0m\n\u001b[1;32m      1\u001b[0m \u001b[0;32mimport\u001b[0m \u001b[0mbottleneck\u001b[0m \u001b[0;32mas\u001b[0m \u001b[0mbn\u001b[0m\u001b[0;34m\u001b[0m\u001b[0m\n\u001b[0;32m----> 2\u001b[0;31m \u001b[0midx_topk_part\u001b[0m \u001b[0;34m=\u001b[0m \u001b[0mbn\u001b[0m\u001b[0;34m.\u001b[0m\u001b[0margpartition\u001b[0m\u001b[0;34m(\u001b[0m\u001b[0;34m-\u001b[0m\u001b[0mX_pred\u001b[0m\u001b[0;34m,\u001b[0m \u001b[0;36m100\u001b[0m\u001b[0;34m,\u001b[0m \u001b[0maxis\u001b[0m\u001b[0;34m=\u001b[0m\u001b[0;36m1\u001b[0m\u001b[0;34m)\u001b[0m\u001b[0;34m\u001b[0m\u001b[0m\n\u001b[0m",
      "\u001b[0;31mNameError\u001b[0m: name 'X_pred' is not defined"
     ]
    }
   ],
   "source": [
    "import bottleneck as bn\n",
    "idx_topk_part = bn.argpartition(-X_pred, 100, axis=1)"
   ]
  },
  {
   "cell_type": "code",
   "execution_count": 3,
   "metadata": {},
   "outputs": [
    {
     "ename": "NameError",
     "evalue": "name 'idx_topk_part' is not defined",
     "output_type": "error",
     "traceback": [
      "\u001b[0;31m---------------------------------------------------------------------------\u001b[0m",
      "\u001b[0;31mNameError\u001b[0m                                 Traceback (most recent call last)",
      "\u001b[0;32m<ipython-input-3-fd83334ef04c>\u001b[0m in \u001b[0;36m<module>\u001b[0;34m()\u001b[0m\n\u001b[0;32m----> 1\u001b[0;31m \u001b[0midx_topk_part\u001b[0m\u001b[0;34m\u001b[0m\u001b[0m\n\u001b[0m",
      "\u001b[0;31mNameError\u001b[0m: name 'idx_topk_part' is not defined"
     ]
    }
   ],
   "source": [
    "idx_topk_part"
   ]
  },
  {
   "cell_type": "code",
   "execution_count": null,
   "metadata": {
    "collapsed": true
   },
   "outputs": [],
   "source": [
    "# \n",
    "topk_part = X_pred[np.arange(batch_users)[:, np.newaxis],\n",
    "                       idx_topk_part[:, :k]]"
   ]
  },
  {
   "cell_type": "code",
   "execution_count": null,
   "metadata": {},
   "outputs": [],
   "source": []
  },
  {
   "cell_type": "code",
   "execution_count": 1,
   "metadata": {},
   "outputs": [
    {
     "data": {
      "text/plain": [
       "5"
      ]
     },
     "execution_count": 1,
     "metadata": {},
     "output_type": "execute_result"
    }
   ],
   "source": [
    "5"
   ]
  },
  {
   "cell_type": "code",
   "execution_count": 56,
   "metadata": {},
   "outputs": [
    {
     "data": {
      "text/plain": [
       "(111148, 1, 11711)"
      ]
     },
     "execution_count": 56,
     "metadata": {},
     "output_type": "execute_result"
    }
   ],
   "source": [
    "X_pred[:, np.newaxis].shape"
   ]
  },
  {
   "cell_type": "code",
   "execution_count": null,
   "metadata": {},
   "outputs": [],
   "source": [
    "X_pred[idx_topk_part[:, :100]]"
   ]
  },
  {
   "cell_type": "code",
   "execution_count": null,
   "metadata": {
    "collapsed": true
   },
   "outputs": [],
   "source": [
    "topk_part = X_pred[[:, np.newaxis], idx_topk_part[:, :k]]"
   ]
  },
  {
   "cell_type": "code",
   "execution_count": null,
   "metadata": {
    "collapsed": true
   },
   "outputs": [],
   "source": [
    "\n",
    "def user_idx_generator(n_users, batch_users):\n",
    "    ''' helper function to generate the user index to loop through the dataset\n",
    "    '''\n",
    "    for start in xrange(0, n_users, batch_users):\n",
    "        end = min(n_users, start + batch_users)\n",
    "        yield slice(start, end)\n",
    "\n",
    "def normalized_dcg_at_k(train_data, heldout_data, U, V, k=100, agg=np.nanmean):\n",
    "    \"\"\"\n",
    "    NDCG @ k\n",
    "    \"\"\"\n",
    "    n_users = train_data.shape[0]\n",
    "    res = list()\n",
    "    for user_idx in user_idx_generator(n_users, n_users):\n",
    "        res.append(NDCG_binary_at_k_batch(train_data, heldout_data, U, V.T, k=k))\n",
    "        \n",
    "    ndcg = np.hstack(res)\n",
    "    if callable(agg):\n",
    "        return agg(ndcg)\n",
    "    return ndcg\n",
    "\n",
    "def NDCG_binary_at_k_batch(train_data, heldout_data, U, VT, k=100):\n",
    "    '''\n",
    "    normalized discounted cumulative gain@k for binary relevance\n",
    "    ASSUMPTIONS: all the 0's in heldout_data indicate 0 relevance\n",
    "    '''\n",
    "    #batch_users = user_idx.stop - user_idx.start\n",
    "\n",
    "    X_pred = _make_prediction(train_data, U, VT)\n",
    "    idx_topk_part = bn.argpartition(-X_pred, k, axis=1)\n",
    "    topk_part = X_pred[np.arange(batch_users)[:, np.newaxis],\n",
    "                       idx_topk_part[:, :k]]\n",
    "    idx_part = np.argsort(-topk_part, axis=1)\n",
    "    # X_pred[np.arange(batch_users)[:, np.newaxis], idx_topk] is the sorted\n",
    "    # topk predicted score\n",
    "    idx_topk = idx_topk_part[np.arange(batch_users)[:, np.newaxis], idx_part]\n",
    "    # build the discount template\n",
    "    tp = 1. / np.log2(np.arange(2, k + 2))\n",
    "\n",
    "    heldout_batch = heldout_data\n",
    "    DCG = (heldout_batch[np.arange(batch_users)[:, np.newaxis], idx_topk].toarray() * tp).sum(axis=1)\n",
    "    IDCG = np.array([(tp[:min(n, k)]).sum()\n",
    "                     for n in heldout_batch.getnnz(axis=1)])\n",
    "    return DCG / IDCG\n"
   ]
  },
  {
   "cell_type": "code",
   "execution_count": 36,
   "metadata": {},
   "outputs": [
    {
     "data": {
      "text/plain": [
       "<111148x11711 sparse matrix of type '<type 'numpy.int16'>'\n",
       "\twith 999003 stored elements in Compressed Sparse Row format>"
      ]
     },
     "execution_count": 36,
     "metadata": {},
     "output_type": "execute_result"
    }
   ],
   "source": [
    "vad_data"
   ]
  },
  {
   "cell_type": "code",
   "execution_count": 16,
   "metadata": {},
   "outputs": [
    {
     "data": {
      "text/plain": [
       "array([ 0.47483447, -0.45262411,  0.12922375, -0.37676117, -1.82800055,\n",
       "        0.5996694 , -0.82891166,  0.38306516,  0.10334159, -0.58245152,\n",
       "        0.06795751, -1.05457795,  1.27783525, -0.58131236, -0.29370022,\n",
       "        0.32481018,  0.37592852,  0.29745358,  1.30121052, -0.00357365,\n",
       "        0.66819078, -0.98151368,  0.3816582 , -0.57974958, -1.92892361,\n",
       "        0.53237849, -0.07437876, -0.22442238,  0.53737158, -1.11361492,\n",
       "       -0.52870733, -0.10714696,  0.07809896,  0.22033608, -0.36906809,\n",
       "       -0.37337652,  0.70809895, -0.84612507,  1.29883635,  0.08175272,\n",
       "       -0.55716425, -0.32196003,  0.11929715, -0.47686729, -0.11620339,\n",
       "       -1.2678771 ,  0.03485085,  0.29723802, -0.76723731, -0.31596872,\n",
       "        1.06023335,  0.97439206,  0.77322119, -0.72154772, -0.17960925,\n",
       "       -0.61731648, -0.33738431,  0.95407182, -0.84338319,  0.72571206,\n",
       "        0.82911766, -0.14987759,  0.14903134,  0.7739957 ,  0.35197195,\n",
       "       -1.52633965, -0.02371887,  0.74461204,  0.72278631, -0.7834084 ,\n",
       "       -0.19522691,  0.46403417,  0.05790826, -0.15946032,  0.13706987,\n",
       "       -0.2704151 , -0.08872724, -1.13142312,  0.63349956,  0.89921093,\n",
       "        0.27106735, -0.21584758, -0.27892503,  1.1588161 , -0.50674927,\n",
       "        1.0713532 ,  0.75290895,  1.52860689, -1.5765965 ,  0.20239402,\n",
       "       -0.11169032,  0.13360983, -0.04310858,  0.01357627, -0.62576616,\n",
       "       -0.21391536,  0.43593347, -0.65578306,  1.62494254, -0.70954794], dtype=float32)"
      ]
     },
     "execution_count": 16,
     "metadata": {},
     "output_type": "execute_result"
    }
   ],
   "source": [
    "U[0]"
   ]
  },
  {
   "cell_type": "code",
   "execution_count": null,
   "metadata": {},
   "outputs": [],
   "source": []
  },
  {
   "cell_type": "code",
   "execution_count": null,
   "metadata": {
    "collapsed": true
   },
   "outputs": [],
   "source": []
  },
  {
   "cell_type": "code",
   "execution_count": null,
   "metadata": {
    "collapsed": true
   },
   "outputs": [],
   "source": []
  },
  {
   "cell_type": "code",
   "execution_count": null,
   "metadata": {
    "collapsed": true
   },
   "outputs": [],
   "source": []
  },
  {
   "cell_type": "code",
   "execution_count": null,
   "metadata": {
    "collapsed": true
   },
   "outputs": [],
   "source": []
  },
  {
   "cell_type": "code",
   "execution_count": null,
   "metadata": {
    "collapsed": true
   },
   "outputs": [],
   "source": []
  },
  {
   "cell_type": "code",
   "execution_count": null,
   "metadata": {
    "collapsed": true
   },
   "outputs": [],
   "source": []
  }
 ],
 "metadata": {
  "kernelspec": {
   "display_name": "Python 2",
   "language": "python",
   "name": "python2"
  },
  "language_info": {
   "codemirror_mode": {
    "name": "ipython",
    "version": 2
   },
   "file_extension": ".py",
   "mimetype": "text/x-python",
   "name": "python",
   "nbconvert_exporter": "python",
   "pygments_lexer": "ipython2",
   "version": "2.7.10"
  }
 },
 "nbformat": 4,
 "nbformat_minor": 1
}
