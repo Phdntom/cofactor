{
 "cells": [
  {
   "cell_type": "markdown",
   "metadata": {},
   "source": [
    "# Preprocess MovieLens-20M "
   ]
  },
  {
   "cell_type": "code",
   "execution_count": 1,
   "metadata": {
    "collapsed": false
   },
   "outputs": [],
   "source": [
    "import datetime\n",
    "import json\n",
    "import os\n",
    "import time\n",
    "\n",
    "import numpy as np\n",
    "\n",
    "#import matplotlib\n",
    "#matplotlib.use('Agg')\n",
    "%matplotlib inline\n",
    "import matplotlib.pyplot as plt\n",
    "\n",
    "\n",
    "import pandas as pd\n",
    "import scipy.sparse\n",
    "\n",
    "#import seaborn as sns\n",
    "#sns.set(context=\"paper\", font_scale=1.5, rc={\"lines.linewidth\": 2}, font='DejaVu Serif')"
   ]
  },
  {
   "cell_type": "code",
   "execution_count": 2,
   "metadata": {
    "collapsed": true
   },
   "outputs": [],
   "source": [
    "DATA_DIR = '/Users/appry001/Data/ml-20m/pro/'"
   ]
  },
  {
   "cell_type": "code",
   "execution_count": 3,
   "metadata": {
    "collapsed": true
   },
   "outputs": [],
   "source": [
    "def timestamp_to_date(timestamp):\n",
    "    return datetime.datetime.fromtimestamp(timestamp).strftime('%Y-%m-%d %H:%M:%S')"
   ]
  },
  {
   "cell_type": "code",
   "execution_count": 4,
   "metadata": {
    "collapsed": true
   },
   "outputs": [],
   "source": [
    "raw_data = pd.read_csv(os.path.join(DATA_DIR, 'ratings.csv'), header=0)"
   ]
  },
  {
   "cell_type": "code",
   "execution_count": 5,
   "metadata": {
    "collapsed": false
   },
   "outputs": [],
   "source": [
    "# binarize the data (only keep ratings >= 4)\n",
    "raw_data = raw_data[raw_data['rating'] > 3.5]"
   ]
  },
  {
   "cell_type": "code",
   "execution_count": 6,
   "metadata": {
    "collapsed": false
   },
   "outputs": [
    {
     "name": "stderr",
     "output_type": "stream",
     "text": [
      "/home/hadoop/datashdp/.linuxbrew/lib/python2.7/site-packages/ipykernel/__main__.py:2: FutureWarning: by argument to sort_index is deprecated, pls use .sort_values(by=...)\n",
      "  from ipykernel import kernelapp as app\n"
     ]
    }
   ],
   "source": [
    "# sort the raw data accorindg to timestamp\n",
    "raw_data = raw_data.sort_index(by=['timestamp'])"
   ]
  },
  {
   "cell_type": "code",
   "execution_count": 7,
   "metadata": {
    "collapsed": false
   },
   "outputs": [
    {
     "data": {
      "text/html": [
       "<div>\n",
       "<table border=\"1\" class=\"dataframe\">\n",
       "  <thead>\n",
       "    <tr style=\"text-align: right;\">\n",
       "      <th></th>\n",
       "      <th>userId</th>\n",
       "      <th>movieId</th>\n",
       "      <th>rating</th>\n",
       "      <th>timestamp</th>\n",
       "    </tr>\n",
       "  </thead>\n",
       "  <tbody>\n",
       "    <tr>\n",
       "      <th>4182421</th>\n",
       "      <td>28507</td>\n",
       "      <td>1176</td>\n",
       "      <td>4.0</td>\n",
       "      <td>789652004</td>\n",
       "    </tr>\n",
       "    <tr>\n",
       "      <th>18950936</th>\n",
       "      <td>131160</td>\n",
       "      <td>47</td>\n",
       "      <td>5.0</td>\n",
       "      <td>789652009</td>\n",
       "    </tr>\n",
       "    <tr>\n",
       "      <th>15688196</th>\n",
       "      <td>108467</td>\n",
       "      <td>57</td>\n",
       "      <td>4.0</td>\n",
       "      <td>822873600</td>\n",
       "    </tr>\n",
       "    <tr>\n",
       "      <th>12341186</th>\n",
       "      <td>85252</td>\n",
       "      <td>70</td>\n",
       "      <td>4.0</td>\n",
       "      <td>822873600</td>\n",
       "    </tr>\n",
       "    <tr>\n",
       "      <th>14452501</th>\n",
       "      <td>99851</td>\n",
       "      <td>1</td>\n",
       "      <td>4.0</td>\n",
       "      <td>822873600</td>\n",
       "    </tr>\n",
       "    <tr>\n",
       "      <th>14452517</th>\n",
       "      <td>99851</td>\n",
       "      <td>58</td>\n",
       "      <td>5.0</td>\n",
       "      <td>822873600</td>\n",
       "    </tr>\n",
       "    <tr>\n",
       "      <th>14452516</th>\n",
       "      <td>99851</td>\n",
       "      <td>55</td>\n",
       "      <td>4.0</td>\n",
       "      <td>822873600</td>\n",
       "    </tr>\n",
       "    <tr>\n",
       "      <th>14452515</th>\n",
       "      <td>99851</td>\n",
       "      <td>52</td>\n",
       "      <td>4.0</td>\n",
       "      <td>822873600</td>\n",
       "    </tr>\n",
       "    <tr>\n",
       "      <th>14452514</th>\n",
       "      <td>99851</td>\n",
       "      <td>50</td>\n",
       "      <td>5.0</td>\n",
       "      <td>822873600</td>\n",
       "    </tr>\n",
       "    <tr>\n",
       "      <th>14452513</th>\n",
       "      <td>99851</td>\n",
       "      <td>47</td>\n",
       "      <td>5.0</td>\n",
       "      <td>822873600</td>\n",
       "    </tr>\n",
       "    <tr>\n",
       "      <th>14452512</th>\n",
       "      <td>99851</td>\n",
       "      <td>45</td>\n",
       "      <td>4.0</td>\n",
       "      <td>822873600</td>\n",
       "    </tr>\n",
       "    <tr>\n",
       "      <th>14452509</th>\n",
       "      <td>99851</td>\n",
       "      <td>39</td>\n",
       "      <td>5.0</td>\n",
       "      <td>822873600</td>\n",
       "    </tr>\n",
       "    <tr>\n",
       "      <th>14452507</th>\n",
       "      <td>99851</td>\n",
       "      <td>32</td>\n",
       "      <td>5.0</td>\n",
       "      <td>822873600</td>\n",
       "    </tr>\n",
       "    <tr>\n",
       "      <th>14452506</th>\n",
       "      <td>99851</td>\n",
       "      <td>31</td>\n",
       "      <td>5.0</td>\n",
       "      <td>822873600</td>\n",
       "    </tr>\n",
       "    <tr>\n",
       "      <th>14452505</th>\n",
       "      <td>99851</td>\n",
       "      <td>21</td>\n",
       "      <td>5.0</td>\n",
       "      <td>822873600</td>\n",
       "    </tr>\n",
       "    <tr>\n",
       "      <th>3056639</th>\n",
       "      <td>20821</td>\n",
       "      <td>32</td>\n",
       "      <td>5.0</td>\n",
       "      <td>822873600</td>\n",
       "    </tr>\n",
       "    <tr>\n",
       "      <th>15688194</th>\n",
       "      <td>108467</td>\n",
       "      <td>11</td>\n",
       "      <td>4.0</td>\n",
       "      <td>822873600</td>\n",
       "    </tr>\n",
       "    <tr>\n",
       "      <th>14452504</th>\n",
       "      <td>99851</td>\n",
       "      <td>19</td>\n",
       "      <td>4.0</td>\n",
       "      <td>822873600</td>\n",
       "    </tr>\n",
       "    <tr>\n",
       "      <th>14452503</th>\n",
       "      <td>99851</td>\n",
       "      <td>18</td>\n",
       "      <td>4.0</td>\n",
       "      <td>822873600</td>\n",
       "    </tr>\n",
       "    <tr>\n",
       "      <th>12341184</th>\n",
       "      <td>85252</td>\n",
       "      <td>60</td>\n",
       "      <td>4.0</td>\n",
       "      <td>822873600</td>\n",
       "    </tr>\n",
       "    <tr>\n",
       "      <th>14452502</th>\n",
       "      <td>99851</td>\n",
       "      <td>10</td>\n",
       "      <td>4.0</td>\n",
       "      <td>822873600</td>\n",
       "    </tr>\n",
       "    <tr>\n",
       "      <th>12341181</th>\n",
       "      <td>85252</td>\n",
       "      <td>50</td>\n",
       "      <td>5.0</td>\n",
       "      <td>822873600</td>\n",
       "    </tr>\n",
       "    <tr>\n",
       "      <th>19424622</th>\n",
       "      <td>134445</td>\n",
       "      <td>11</td>\n",
       "      <td>4.0</td>\n",
       "      <td>822873600</td>\n",
       "    </tr>\n",
       "    <tr>\n",
       "      <th>19424624</th>\n",
       "      <td>134445</td>\n",
       "      <td>21</td>\n",
       "      <td>5.0</td>\n",
       "      <td>822873600</td>\n",
       "    </tr>\n",
       "    <tr>\n",
       "      <th>19424626</th>\n",
       "      <td>134445</td>\n",
       "      <td>45</td>\n",
       "      <td>5.0</td>\n",
       "      <td>822873600</td>\n",
       "    </tr>\n",
       "    <tr>\n",
       "      <th>19424627</th>\n",
       "      <td>134445</td>\n",
       "      <td>58</td>\n",
       "      <td>5.0</td>\n",
       "      <td>822873600</td>\n",
       "    </tr>\n",
       "    <tr>\n",
       "      <th>12341159</th>\n",
       "      <td>85252</td>\n",
       "      <td>2</td>\n",
       "      <td>4.0</td>\n",
       "      <td>822873600</td>\n",
       "    </tr>\n",
       "    <tr>\n",
       "      <th>12341161</th>\n",
       "      <td>85252</td>\n",
       "      <td>7</td>\n",
       "      <td>5.0</td>\n",
       "      <td>822873600</td>\n",
       "    </tr>\n",
       "    <tr>\n",
       "      <th>12341162</th>\n",
       "      <td>85252</td>\n",
       "      <td>10</td>\n",
       "      <td>5.0</td>\n",
       "      <td>822873600</td>\n",
       "    </tr>\n",
       "    <tr>\n",
       "      <th>12341165</th>\n",
       "      <td>85252</td>\n",
       "      <td>17</td>\n",
       "      <td>5.0</td>\n",
       "      <td>822873600</td>\n",
       "    </tr>\n",
       "    <tr>\n",
       "      <th>...</th>\n",
       "      <td>...</td>\n",
       "      <td>...</td>\n",
       "      <td>...</td>\n",
       "      <td>...</td>\n",
       "    </tr>\n",
       "    <tr>\n",
       "      <th>19742824</th>\n",
       "      <td>136690</td>\n",
       "      <td>48394</td>\n",
       "      <td>5.0</td>\n",
       "      <td>1427775557</td>\n",
       "    </tr>\n",
       "    <tr>\n",
       "      <th>19742805</th>\n",
       "      <td>136690</td>\n",
       "      <td>1136</td>\n",
       "      <td>5.0</td>\n",
       "      <td>1427775558</td>\n",
       "    </tr>\n",
       "    <tr>\n",
       "      <th>19742831</th>\n",
       "      <td>136690</td>\n",
       "      <td>104841</td>\n",
       "      <td>4.5</td>\n",
       "      <td>1427775561</td>\n",
       "    </tr>\n",
       "    <tr>\n",
       "      <th>15480802</th>\n",
       "      <td>107073</td>\n",
       "      <td>745</td>\n",
       "      <td>5.0</td>\n",
       "      <td>1427776814</td>\n",
       "    </tr>\n",
       "    <tr>\n",
       "      <th>15480822</th>\n",
       "      <td>107073</td>\n",
       "      <td>5971</td>\n",
       "      <td>5.0</td>\n",
       "      <td>1427776816</td>\n",
       "    </tr>\n",
       "    <tr>\n",
       "      <th>15480805</th>\n",
       "      <td>107073</td>\n",
       "      <td>1148</td>\n",
       "      <td>4.0</td>\n",
       "      <td>1427776833</td>\n",
       "    </tr>\n",
       "    <tr>\n",
       "      <th>15480828</th>\n",
       "      <td>107073</td>\n",
       "      <td>92259</td>\n",
       "      <td>4.0</td>\n",
       "      <td>1427776892</td>\n",
       "    </tr>\n",
       "    <tr>\n",
       "      <th>15480823</th>\n",
       "      <td>107073</td>\n",
       "      <td>6016</td>\n",
       "      <td>5.0</td>\n",
       "      <td>1427777118</td>\n",
       "    </tr>\n",
       "    <tr>\n",
       "      <th>15480804</th>\n",
       "      <td>107073</td>\n",
       "      <td>858</td>\n",
       "      <td>5.0</td>\n",
       "      <td>1427777123</td>\n",
       "    </tr>\n",
       "    <tr>\n",
       "      <th>15480826</th>\n",
       "      <td>107073</td>\n",
       "      <td>58559</td>\n",
       "      <td>4.0</td>\n",
       "      <td>1427777129</td>\n",
       "    </tr>\n",
       "    <tr>\n",
       "      <th>15480819</th>\n",
       "      <td>107073</td>\n",
       "      <td>4993</td>\n",
       "      <td>5.0</td>\n",
       "      <td>1427777155</td>\n",
       "    </tr>\n",
       "    <tr>\n",
       "      <th>15480821</th>\n",
       "      <td>107073</td>\n",
       "      <td>5952</td>\n",
       "      <td>5.0</td>\n",
       "      <td>1427777157</td>\n",
       "    </tr>\n",
       "    <tr>\n",
       "      <th>15480818</th>\n",
       "      <td>107073</td>\n",
       "      <td>4306</td>\n",
       "      <td>5.0</td>\n",
       "      <td>1427777158</td>\n",
       "    </tr>\n",
       "    <tr>\n",
       "      <th>15480825</th>\n",
       "      <td>107073</td>\n",
       "      <td>7153</td>\n",
       "      <td>5.0</td>\n",
       "      <td>1427777166</td>\n",
       "    </tr>\n",
       "    <tr>\n",
       "      <th>15480816</th>\n",
       "      <td>107073</td>\n",
       "      <td>3793</td>\n",
       "      <td>4.0</td>\n",
       "      <td>1427777169</td>\n",
       "    </tr>\n",
       "    <tr>\n",
       "      <th>15480798</th>\n",
       "      <td>107073</td>\n",
       "      <td>527</td>\n",
       "      <td>5.0</td>\n",
       "      <td>1427777203</td>\n",
       "    </tr>\n",
       "    <tr>\n",
       "      <th>17877748</th>\n",
       "      <td>123613</td>\n",
       "      <td>109243</td>\n",
       "      <td>4.0</td>\n",
       "      <td>1427779965</td>\n",
       "    </tr>\n",
       "    <tr>\n",
       "      <th>8378451</th>\n",
       "      <td>57814</td>\n",
       "      <td>7361</td>\n",
       "      <td>4.0</td>\n",
       "      <td>1427780465</td>\n",
       "    </tr>\n",
       "    <tr>\n",
       "      <th>8378452</th>\n",
       "      <td>57814</td>\n",
       "      <td>7438</td>\n",
       "      <td>5.0</td>\n",
       "      <td>1427780468</td>\n",
       "    </tr>\n",
       "    <tr>\n",
       "      <th>8378505</th>\n",
       "      <td>57814</td>\n",
       "      <td>108979</td>\n",
       "      <td>5.0</td>\n",
       "      <td>1427780517</td>\n",
       "    </tr>\n",
       "    <tr>\n",
       "      <th>8378409</th>\n",
       "      <td>57814</td>\n",
       "      <td>1527</td>\n",
       "      <td>4.0</td>\n",
       "      <td>1427780519</td>\n",
       "    </tr>\n",
       "    <tr>\n",
       "      <th>8378407</th>\n",
       "      <td>57814</td>\n",
       "      <td>1274</td>\n",
       "      <td>5.0</td>\n",
       "      <td>1427780571</td>\n",
       "    </tr>\n",
       "    <tr>\n",
       "      <th>8378413</th>\n",
       "      <td>57814</td>\n",
       "      <td>1748</td>\n",
       "      <td>4.5</td>\n",
       "      <td>1427780617</td>\n",
       "    </tr>\n",
       "    <tr>\n",
       "      <th>8378443</th>\n",
       "      <td>57814</td>\n",
       "      <td>6283</td>\n",
       "      <td>5.0</td>\n",
       "      <td>1427780623</td>\n",
       "    </tr>\n",
       "    <tr>\n",
       "      <th>8378393</th>\n",
       "      <td>57814</td>\n",
       "      <td>924</td>\n",
       "      <td>4.5</td>\n",
       "      <td>1427780631</td>\n",
       "    </tr>\n",
       "    <tr>\n",
       "      <th>8378423</th>\n",
       "      <td>57814</td>\n",
       "      <td>3527</td>\n",
       "      <td>4.0</td>\n",
       "      <td>1427780657</td>\n",
       "    </tr>\n",
       "    <tr>\n",
       "      <th>8378468</th>\n",
       "      <td>57814</td>\n",
       "      <td>48774</td>\n",
       "      <td>4.0</td>\n",
       "      <td>1427780663</td>\n",
       "    </tr>\n",
       "    <tr>\n",
       "      <th>8378405</th>\n",
       "      <td>57814</td>\n",
       "      <td>1240</td>\n",
       "      <td>5.0</td>\n",
       "      <td>1427781001</td>\n",
       "    </tr>\n",
       "    <tr>\n",
       "      <th>8378415</th>\n",
       "      <td>57814</td>\n",
       "      <td>2311</td>\n",
       "      <td>4.5</td>\n",
       "      <td>1427781083</td>\n",
       "    </tr>\n",
       "    <tr>\n",
       "      <th>12898527</th>\n",
       "      <td>89081</td>\n",
       "      <td>52458</td>\n",
       "      <td>4.0</td>\n",
       "      <td>1427782288</td>\n",
       "    </tr>\n",
       "  </tbody>\n",
       "</table>\n",
       "<p>9995410 rows × 4 columns</p>\n",
       "</div>"
      ],
      "text/plain": [
       "          userId  movieId  rating   timestamp\n",
       "4182421    28507     1176     4.0   789652004\n",
       "18950936  131160       47     5.0   789652009\n",
       "15688196  108467       57     4.0   822873600\n",
       "12341186   85252       70     4.0   822873600\n",
       "14452501   99851        1     4.0   822873600\n",
       "14452517   99851       58     5.0   822873600\n",
       "14452516   99851       55     4.0   822873600\n",
       "14452515   99851       52     4.0   822873600\n",
       "14452514   99851       50     5.0   822873600\n",
       "14452513   99851       47     5.0   822873600\n",
       "14452512   99851       45     4.0   822873600\n",
       "14452509   99851       39     5.0   822873600\n",
       "14452507   99851       32     5.0   822873600\n",
       "14452506   99851       31     5.0   822873600\n",
       "14452505   99851       21     5.0   822873600\n",
       "3056639    20821       32     5.0   822873600\n",
       "15688194  108467       11     4.0   822873600\n",
       "14452504   99851       19     4.0   822873600\n",
       "14452503   99851       18     4.0   822873600\n",
       "12341184   85252       60     4.0   822873600\n",
       "14452502   99851       10     4.0   822873600\n",
       "12341181   85252       50     5.0   822873600\n",
       "19424622  134445       11     4.0   822873600\n",
       "19424624  134445       21     5.0   822873600\n",
       "19424626  134445       45     5.0   822873600\n",
       "19424627  134445       58     5.0   822873600\n",
       "12341159   85252        2     4.0   822873600\n",
       "12341161   85252        7     5.0   822873600\n",
       "12341162   85252       10     5.0   822873600\n",
       "12341165   85252       17     5.0   822873600\n",
       "...          ...      ...     ...         ...\n",
       "19742824  136690    48394     5.0  1427775557\n",
       "19742805  136690     1136     5.0  1427775558\n",
       "19742831  136690   104841     4.5  1427775561\n",
       "15480802  107073      745     5.0  1427776814\n",
       "15480822  107073     5971     5.0  1427776816\n",
       "15480805  107073     1148     4.0  1427776833\n",
       "15480828  107073    92259     4.0  1427776892\n",
       "15480823  107073     6016     5.0  1427777118\n",
       "15480804  107073      858     5.0  1427777123\n",
       "15480826  107073    58559     4.0  1427777129\n",
       "15480819  107073     4993     5.0  1427777155\n",
       "15480821  107073     5952     5.0  1427777157\n",
       "15480818  107073     4306     5.0  1427777158\n",
       "15480825  107073     7153     5.0  1427777166\n",
       "15480816  107073     3793     4.0  1427777169\n",
       "15480798  107073      527     5.0  1427777203\n",
       "17877748  123613   109243     4.0  1427779965\n",
       "8378451    57814     7361     4.0  1427780465\n",
       "8378452    57814     7438     5.0  1427780468\n",
       "8378505    57814   108979     5.0  1427780517\n",
       "8378409    57814     1527     4.0  1427780519\n",
       "8378407    57814     1274     5.0  1427780571\n",
       "8378413    57814     1748     4.5  1427780617\n",
       "8378443    57814     6283     5.0  1427780623\n",
       "8378393    57814      924     4.5  1427780631\n",
       "8378423    57814     3527     4.0  1427780657\n",
       "8378468    57814    48774     4.0  1427780663\n",
       "8378405    57814     1240     5.0  1427781001\n",
       "8378415    57814     2311     4.5  1427781083\n",
       "12898527   89081    52458     4.0  1427782288\n",
       "\n",
       "[9995410 rows x 4 columns]"
      ]
     },
     "execution_count": 7,
     "metadata": {},
     "output_type": "execute_result"
    }
   ],
   "source": [
    "raw_data"
   ]
  },
  {
   "cell_type": "code",
   "execution_count": 8,
   "metadata": {
    "collapsed": false
   },
   "outputs": [],
   "source": [
    "tstamp = np.array(raw_data['timestamp'])"
   ]
  },
  {
   "cell_type": "code",
   "execution_count": 9,
   "metadata": {
    "collapsed": false
   },
   "outputs": [
    {
     "name": "stdout",
     "output_type": "stream",
     "text": [
      "Time span of the dataset: From 1995-01-09 06:46:44 to 2015-03-31 02:11:28\n"
     ]
    }
   ],
   "source": [
    "print(\"Time span of the dataset: From %s to %s\" % \n",
    "      (timestamp_to_date(np.min(tstamp)), timestamp_to_date(np.max(tstamp))))"
   ]
  },
  {
   "cell_type": "code",
   "execution_count": 10,
   "metadata": {
    "collapsed": true
   },
   "outputs": [],
   "source": [
    "# apparently the timestamps are ordered, check to make sure\n",
    "\n",
    "for i in xrange(tstamp.size - 1):\n",
    "    if tstamp[i] > tstamp[i + 1]:\n",
    "        print(\"not ordered\")"
   ]
  },
  {
   "cell_type": "markdown",
   "metadata": {},
   "source": [
    "Confirmed the timestamps are ordered"
   ]
  },
  {
   "cell_type": "code",
   "execution_count": 11,
   "metadata": {
    "collapsed": false
   },
   "outputs": [
    {
     "data": {
      "image/png": "[encoded data removed]",
      "text/plain": [
       "<matplotlib.figure.Figure at 0x7f60f2aeb610>"
      ]
     },
     "metadata": {},
     "output_type": "display_data"
    }
   ],
   "source": [
    "plt.hist(tstamp, bins=50)\n",
    "xticks = np.linspace(tstamp[0], tstamp[-1], 10)\n",
    "plt.xticks(xticks, map(lambda x: timestamp_to_date(x)[:7], xticks), rotation=90)\n",
    "pass"
   ]
  },
  {
   "cell_type": "markdown",
   "metadata": {},
   "source": [
    "Now we select the data from 1995-01-01 to the last day as the dataset (i.e., all the dataset)"
   ]
  },
  {
   "cell_type": "code",
   "execution_count": 12,
   "metadata": {
    "collapsed": false
   },
   "outputs": [],
   "source": [
    "start_t = time.mktime(datetime.datetime.strptime(\"1995-01-01\", \"%Y-%m-%d\").timetuple())"
   ]
  },
  {
   "cell_type": "code",
   "execution_count": 13,
   "metadata": {
    "collapsed": false
   },
   "outputs": [],
   "source": [
    "raw_data = raw_data[raw_data['timestamp'] >= start_t]"
   ]
  },
  {
   "cell_type": "markdown",
   "metadata": {},
   "source": [
    "Take the first 80% of the data as train and validation set"
   ]
  },
  {
   "cell_type": "code",
   "execution_count": 14,
   "metadata": {
    "collapsed": true
   },
   "outputs": [],
   "source": [
    "tr_vd_raw_data = raw_data[:int(0.8 * raw_data.shape[0])]"
   ]
  },
  {
   "cell_type": "code",
   "execution_count": 15,
   "metadata": {
    "collapsed": true
   },
   "outputs": [],
   "source": [
    "def get_count(tp, id):\n",
    "    playcount_groupbyid = tp[[id]].groupby(id, as_index=False)\n",
    "    count = playcount_groupbyid.size()\n",
    "    return count"
   ]
  },
  {
   "cell_type": "code",
   "execution_count": 16,
   "metadata": {
    "collapsed": true
   },
   "outputs": [],
   "source": [
    "def filter_triplets(tp, min_uc=5, min_sc=0):\n",
    "    # Only keep the triplets for songs which were listened to by at least min_sc users. \n",
    "    if min_sc > 0:\n",
    "        songcount = get_count(tp, 'movieId')\n",
    "        tp = tp[tp['movieId'].isin(songcount.index[songcount >= min_sc])]\n",
    "    \n",
    "    # Only keep the triplets for users who listened to at least min_uc songs\n",
    "    # After doing this, some of the songs will have less than min_uc users, but should only be a small proportion\n",
    "    if min_uc > 0:\n",
    "        usercount = get_count(tp, 'userId')\n",
    "        tp = tp[tp['userId'].isin(usercount.index[usercount >= min_uc])]\n",
    "    \n",
    "    # Update both usercount and songcount after filtering\n",
    "    usercount, songcount = get_count(tp, 'userId'), get_count(tp, 'movieId') \n",
    "    return tp, usercount, songcount"
   ]
  },
  {
   "cell_type": "code",
   "execution_count": 17,
   "metadata": {
    "collapsed": true
   },
   "outputs": [],
   "source": [
    "tr_vd_raw_data, user_activity, item_popularity = filter_triplets(tr_vd_raw_data)"
   ]
  },
  {
   "cell_type": "code",
   "execution_count": 18,
   "metadata": {
    "collapsed": false
   },
   "outputs": [
    {
     "name": "stdout",
     "output_type": "stream",
     "text": [
      "After filtering, there are 7992863 watching events from 111148 users and 11711 movies (sparsity: 0.614%)\n"
     ]
    }
   ],
   "source": [
    "sparsity = 1. * tr_vd_raw_data.shape[0] / (user_activity.shape[0] * item_popularity.shape[0])\n",
    "\n",
    "print(\"After filtering, there are %d watching events from %d users and %d movies (sparsity: %.3f%%)\" % \n",
    "      (tr_vd_raw_data.shape[0], user_activity.shape[0], item_popularity.shape[0], sparsity * 100))"
   ]
  },
  {
   "cell_type": "code",
   "execution_count": 19,
   "metadata": {
    "collapsed": false
   },
   "outputs": [],
   "source": [
    "unique_uid = user_activity.index\n",
    "unique_sid = item_popularity.index"
   ]
  },
  {
   "cell_type": "code",
   "execution_count": 20,
   "metadata": {
    "collapsed": true
   },
   "outputs": [],
   "source": [
    "song2id = dict((sid, i) for (i, sid) in enumerate(unique_sid))\n",
    "user2id = dict((uid, i) for (i, uid) in enumerate(unique_uid))"
   ]
  },
  {
   "cell_type": "code",
   "execution_count": 22,
   "metadata": {
    "collapsed": false
   },
   "outputs": [],
   "source": [
    "with open(os.path.join(DATA_DIR, 'pro', 'unique_uid.txt'), 'w') as f:\n",
    "    for uid in unique_uid:\n",
    "        f.write('%s\\n' % uid)"
   ]
  },
  {
   "cell_type": "code",
   "execution_count": 23,
   "metadata": {
    "collapsed": true
   },
   "outputs": [],
   "source": [
    "with open(os.path.join(DATA_DIR, 'pro', 'unique_sid.txt'), 'w') as f:\n",
    "    for sid in unique_sid:\n",
    "        f.write('%s\\n' % sid)"
   ]
  },
  {
   "cell_type": "markdown",
   "metadata": {},
   "source": [
    "Split 12.5% (10% of the total ratings) as validation set"
   ]
  },
  {
   "cell_type": "code",
   "execution_count": 24,
   "metadata": {
    "collapsed": true
   },
   "outputs": [],
   "source": [
    "np.random.seed(13579)\n",
    "n_ratings = tr_vd_raw_data.shape[0]\n",
    "vad = np.random.choice(n_ratings, size=int(0.125 * n_ratings), replace=False)"
   ]
  },
  {
   "cell_type": "code",
   "execution_count": 25,
   "metadata": {
    "collapsed": true
   },
   "outputs": [],
   "source": [
    "vad_idx = np.zeros(n_ratings, dtype=bool)\n",
    "vad_idx[vad] = True\n",
    "\n",
    "vad_raw_data = tr_vd_raw_data[vad_idx]\n",
    "train_raw_data = tr_vd_raw_data[~vad_idx]"
   ]
  },
  {
   "cell_type": "markdown",
   "metadata": {},
   "source": [
    "Make sure there is no empty users/items"
   ]
  },
  {
   "cell_type": "code",
   "execution_count": 26,
   "metadata": {
    "collapsed": false
   },
   "outputs": [
    {
     "name": "stdout",
     "output_type": "stream",
     "text": [
      "There are total of 111148 unique users in the training set and 111148 unique users in the entire dataset\n"
     ]
    }
   ],
   "source": [
    "print \"There are total of %d unique users in the training set and %d unique users in the entire dataset\" % \\\n",
    "(len(pd.unique(train_raw_data['userId'])), len(unique_uid))"
   ]
  },
  {
   "cell_type": "code",
   "execution_count": 27,
   "metadata": {
    "collapsed": false
   },
   "outputs": [
    {
     "name": "stdout",
     "output_type": "stream",
     "text": [
      "There are total of 11612 unique items in the training set and 11711 unique items in the entire dataset\n"
     ]
    }
   ],
   "source": [
    "print \"There are total of %d unique items in the training set and %d unique items in the entire dataset\" % \\\n",
    "(len(pd.unique(train_raw_data['movieId'])), len(unique_sid))"
   ]
  },
  {
   "cell_type": "code",
   "execution_count": 28,
   "metadata": {
    "collapsed": true
   },
   "outputs": [],
   "source": [
    "train_sid = set(pd.unique(train_raw_data['movieId']))"
   ]
  },
  {
   "cell_type": "code",
   "execution_count": 29,
   "metadata": {
    "collapsed": true
   },
   "outputs": [],
   "source": [
    "left_sid = list()\n",
    "for i, sid in enumerate(unique_sid):\n",
    "    if sid not in train_sid:\n",
    "        left_sid.append(sid)"
   ]
  },
  {
   "cell_type": "code",
   "execution_count": 30,
   "metadata": {
    "collapsed": true
   },
   "outputs": [],
   "source": [
    "move_idx = vad_raw_data['movieId'].isin(left_sid)"
   ]
  },
  {
   "cell_type": "code",
   "execution_count": 31,
   "metadata": {
    "collapsed": false
   },
   "outputs": [],
   "source": [
    "train_raw_data = train_raw_data.append(vad_raw_data[move_idx])\n",
    "vad_raw_data = vad_raw_data[~move_idx]"
   ]
  },
  {
   "cell_type": "code",
   "execution_count": 32,
   "metadata": {
    "collapsed": false
   },
   "outputs": [
    {
     "name": "stdout",
     "output_type": "stream",
     "text": [
      "There are total of 11711 unique items in the training set and 11711 unique items in the entire dataset\n"
     ]
    }
   ],
   "source": [
    "print \"There are total of %d unique items in the training set and %d unique items in the entire dataset\" % \\\n",
    "(len(pd.unique(train_raw_data['movieId'])), len(unique_sid))"
   ]
  },
  {
   "cell_type": "markdown",
   "metadata": {},
   "source": [
    "For test data, only keep the users and items that appear in the training/validation sets"
   ]
  },
  {
   "cell_type": "code",
   "execution_count": 33,
   "metadata": {
    "collapsed": true
   },
   "outputs": [],
   "source": [
    "test_raw_data = raw_data[int(0.8 * len(raw_data)):]"
   ]
  },
  {
   "cell_type": "code",
   "execution_count": 34,
   "metadata": {
    "collapsed": true
   },
   "outputs": [],
   "source": [
    "test_raw_data = test_raw_data[test_raw_data['movieId'].isin(unique_sid)]\n",
    "test_raw_data = test_raw_data[test_raw_data['userId'].isin(unique_uid)]"
   ]
  },
  {
   "cell_type": "code",
   "execution_count": 35,
   "metadata": {
    "collapsed": false
   },
   "outputs": [
    {
     "name": "stdout",
     "output_type": "stream",
     "text": [
      "6993860 999003 207161\n"
     ]
    }
   ],
   "source": [
    "print len(train_raw_data), len(vad_raw_data), len(test_raw_data)"
   ]
  },
  {
   "cell_type": "markdown",
   "metadata": {},
   "source": [
    "Basic data information: what's the timespan for train/test?"
   ]
  },
  {
   "cell_type": "code",
   "execution_count": 36,
   "metadata": {
    "collapsed": false
   },
   "outputs": [
    {
     "name": "stdout",
     "output_type": "stream",
     "text": [
      "train: from 1995-01-09 06:46:44 to 2009-10-19 06:51:15\n",
      "test: from 2009-10-19 06:51:53 to 2015-03-31 02:11:28\n"
     ]
    }
   ],
   "source": [
    "train_timestamp = np.asarray(tr_vd_raw_data['timestamp'])\n",
    "print(\"train: from %s to %s\" % (timestamp_to_date(train_timestamp[0]), \n",
    "                                timestamp_to_date(train_timestamp[-1])))\n",
    "\n",
    "test_timestamp = np.asarray(test_raw_data['timestamp'])\n",
    "print(\"test: from %s to %s\" % (timestamp_to_date(test_timestamp[0]), \n",
    "                               timestamp_to_date(test_timestamp[-1])))"
   ]
  },
  {
   "cell_type": "markdown",
   "metadata": {},
   "source": [
    "### Numerize the data into (timestamp, user_index, item_index) format"
   ]
  },
  {
   "cell_type": "code",
   "execution_count": 37,
   "metadata": {
    "collapsed": false
   },
   "outputs": [],
   "source": [
    "def numerize(tp):\n",
    "    uid = map(lambda x: user2id[x], tp['userId'])\n",
    "    sid = map(lambda x: song2id[x], tp['movieId'])\n",
    "    tp['uid'] = uid\n",
    "    tp['sid'] = sid\n",
    "    return tp[['timestamp', 'uid', 'sid']]"
   ]
  },
  {
   "cell_type": "code",
   "execution_count": 38,
   "metadata": {
    "collapsed": false
   },
   "outputs": [],
   "source": [
    "train_data = numerize(train_raw_data)\n",
    "train_data.to_csv(os.path.join(DATA_DIR, 'pro', 'train.csv'), index=False)"
   ]
  },
  {
   "cell_type": "code",
   "execution_count": 39,
   "metadata": {
    "collapsed": true
   },
   "outputs": [],
   "source": [
    "vad_data = numerize(vad_raw_data)\n",
    "vad_data.to_csv(os.path.join(DATA_DIR, 'pro', 'validation.csv'), index=False)"
   ]
  },
  {
   "cell_type": "code",
   "execution_count": 40,
   "metadata": {
    "collapsed": true
   },
   "outputs": [],
   "source": [
    "test_data = numerize(test_raw_data)\n",
    "test_data.to_csv(os.path.join(DATA_DIR, 'pro', 'test.csv'), index=False)"
   ]
  },
  {
   "cell_type": "code",
   "execution_count": null,
   "metadata": {
    "collapsed": true
   },
   "outputs": [],
   "source": []
  }
 ],
 "metadata": {
  "kernelspec": {
   "display_name": "Python 2",
   "language": "python",
   "name": "python2"
  },
  "language_info": {
   "codemirror_mode": {
    "name": "ipython",
    "version": 2
   },
   "file_extension": ".py",
   "mimetype": "text/x-python",
   "name": "python",
   "nbconvert_exporter": "python",
   "pygments_lexer": "ipython2",
   "version": "2.7.10"
  }
 },
 "nbformat": 4,
 "nbformat_minor": 0
}
